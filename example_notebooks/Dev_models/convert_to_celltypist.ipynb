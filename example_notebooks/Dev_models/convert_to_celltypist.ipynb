{
 "cells": [
  {
   "cell_type": "code",
   "execution_count": 1,
   "id": "considered-document",
   "metadata": {},
   "outputs": [
    {
     "name": "stdout",
     "output_type": "stream",
     "text": [
      "Warning: Can't read registry to find the necessary compiler setting\n",
      "Make sure that Python modules winreg, win32api or win32con are installed.\n",
      "INFO: blas_opt_info:\n",
      "INFO: blas_armpl_info:\n",
      "INFO: customize UnixCCompiler\n",
      "INFO:   libraries armpl_lp64_mp not found in ['/home/jovyan/my-conda-envs/scentinel/lib', '/usr/local/lib', '/usr/lib64', '/usr/lib', '/usr/lib/x86_64-linux-gnu']\n",
      "INFO:   NOT AVAILABLE\n",
      "INFO: \n",
      "INFO: blas_mkl_info:\n",
      "INFO:   libraries mkl_rt not found in ['/home/jovyan/my-conda-envs/scentinel/lib', '/usr/local/lib', '/usr/lib64', '/usr/lib', '/usr/lib/x86_64-linux-gnu']\n",
      "INFO:   NOT AVAILABLE\n",
      "INFO: \n",
      "INFO: blis_info:\n",
      "INFO:   libraries blis not found in ['/home/jovyan/my-conda-envs/scentinel/lib', '/usr/local/lib', '/usr/lib64', '/usr/lib', '/usr/lib/x86_64-linux-gnu']\n",
      "INFO:   NOT AVAILABLE\n",
      "INFO: \n",
      "INFO: openblas_info:\n",
      "INFO:   libraries openblas not found in ['/home/jovyan/my-conda-envs/scentinel/lib', '/usr/local/lib', '/usr/lib64', '/usr/lib', '/usr/lib/x86_64-linux-gnu']\n",
      "INFO:   NOT AVAILABLE\n",
      "INFO: \n",
      "INFO: accelerate_info:\n",
      "INFO:   NOT AVAILABLE\n",
      "INFO: \n",
      "INFO: atlas_3_10_blas_threads_info:\n",
      "INFO: Setting PTATLAS=ATLAS\n",
      "INFO:   libraries tatlas not found in ['/home/jovyan/my-conda-envs/scentinel/lib', '/usr/local/lib', '/usr/lib64', '/usr/lib', '/usr/lib/x86_64-linux-gnu']\n",
      "INFO:   NOT AVAILABLE\n",
      "INFO: \n",
      "INFO: atlas_3_10_blas_info:\n",
      "INFO:   libraries satlas not found in ['/home/jovyan/my-conda-envs/scentinel/lib', '/usr/local/lib', '/usr/lib64', '/usr/lib', '/usr/lib/x86_64-linux-gnu']\n",
      "INFO:   NOT AVAILABLE\n",
      "INFO: \n",
      "INFO: atlas_blas_threads_info:\n",
      "INFO: Setting PTATLAS=ATLAS\n",
      "INFO:   libraries ptf77blas,ptcblas,atlas not found in ['/home/jovyan/my-conda-envs/scentinel/lib', '/usr/local/lib', '/usr/lib64', '/usr/lib', '/usr/lib/x86_64-linux-gnu']\n",
      "INFO:   NOT AVAILABLE\n",
      "INFO: \n",
      "INFO: atlas_blas_info:\n",
      "INFO:   libraries f77blas,cblas,atlas not found in ['/home/jovyan/my-conda-envs/scentinel/lib', '/usr/local/lib', '/usr/lib64', '/usr/lib', '/usr/lib/x86_64-linux-gnu']\n",
      "INFO:   NOT AVAILABLE\n",
      "INFO: \n",
      "INFO: blas_info:\n",
      "INFO: C compiler: gcc -pthread -B /home/jovyan/my-conda-envs/scentinel/compiler_compat -Wno-unused-result -Wsign-compare -DNDEBUG -fwrapv -O2 -Wall -fPIC -O2 -isystem /home/jovyan/my-conda-envs/scentinel/include -fPIC -O2 -isystem /home/jovyan/my-conda-envs/scentinel/include -fPIC\n",
      "\n",
      "creating /tmp/tmppdsqnrz7/tmp\n",
      "creating /tmp/tmppdsqnrz7/tmp/tmppdsqnrz7\n",
      "INFO: compile options: '-I/usr/local/include -I/home/jovyan/my-conda-envs/scentinel/include -c'\n",
      "INFO: gcc: /tmp/tmppdsqnrz7/source.c\n",
      "INFO: gcc -pthread -B /home/jovyan/my-conda-envs/scentinel/compiler_compat /tmp/tmppdsqnrz7/tmp/tmppdsqnrz7/source.o -L/usr/lib/x86_64-linux-gnu -lblas -o /tmp/tmppdsqnrz7/a.out\n",
      "INFO:   FOUND:\n",
      "INFO:     libraries = ['blas', 'blas']\n",
      "INFO:     library_dirs = ['/usr/lib/x86_64-linux-gnu']\n",
      "INFO:     include_dirs = ['/usr/local/include', '/home/jovyan/my-conda-envs/scentinel/include']\n",
      "INFO:     language = c\n",
      "INFO:     define_macros = [('HAVE_CBLAS', None)]\n",
      "INFO: \n",
      "INFO:   FOUND:\n",
      "INFO:     define_macros = [('NO_ATLAS_INFO', 1), ('HAVE_CBLAS', None)]\n",
      "INFO:     libraries = ['blas', 'blas']\n",
      "INFO:     library_dirs = ['/usr/lib/x86_64-linux-gnu']\n",
      "INFO:     include_dirs = ['/usr/local/include', '/home/jovyan/my-conda-envs/scentinel/include']\n",
      "INFO:     language = c\n",
      "INFO: \n"
     ]
    }
   ],
   "source": [
    "import scentinel as scent\n",
    "import scanpy as sc\n",
    "import numpy as np\n",
    "import pickle as pkl\n",
    "from sklearn.preprocessing import StandardScaler\n",
    "from datetime import datetime"
   ]
  },
  {
   "cell_type": "code",
   "execution_count": 2,
   "id": "applicable-bottle",
   "metadata": {},
   "outputs": [],
   "source": [
    "models = {\n",
    "    \"pan_fetal_wget\": \"https://celltypist.cog.sanger.ac.uk/models/Pan_Fetal_Suo/v2/Pan_Fetal_Human.pkl\",\n",
    "    \"YS_wget\": \"https://storage.googleapis.com/haniffalab/yolk-sac/YS_X_A2_V12_lvl3_ELASTICNET_YS.sav\",\n",
    "}\n",
    "\n",
    "adatas_dict = {\n",
    "    \"pan_fetal_wget\": \"https://cellgeni.cog.sanger.ac.uk/developmentcellatlas/fetal-immune/PAN.A01.v01.raw_count.20210429.PFI.embedding.h5ad\",\n",
    "    \"YS_wget\": \"https://app.cellatlas.io/yolk-sac/dataset/23/download\",\n",
    "    \"YS_local\": \"/nfs/team205/ig7/work_backups/backup_210306/projects/YS/YS_data/Submission_2_data/A2_V10_scvi_YS_integrated/A2_V10_qc_raw_obsm.h5ad\",\n",
    "    \"YS_pre_agm\": \"https://app.cellatlas.io/yolk-sac/dataset/10/download\",\n",
    "    \"FLIV_wget\": \"https://app.cellatlas.io/fetal-liver/dataset/1/download\",\n",
    "    \"int_atlas_sub\": \"/nfs/team298/ar32/Thesis_lab_hdca/label_testing_on_vae/scENTInEL/example_notebooks/Simple_sampled_adata_V1.h5ad\",\n",
    "    \"int_atlas_full\": \"/nfs/team298/ar32/Thesis_lab_hdca/from_kemal/14_dataset_with_leiden.h5ad\",\n",
    "}\n",
    "\n",
    "# setup global params:\n",
    "# Variable assignment\n",
    "model_key = \"YS_wget\"  #'pan_fetal_wget'#'test_low_dim_ipsc_ys'# key for model of choice can be either url or local"
   ]
  },
  {
   "cell_type": "code",
   "execution_count": 3,
   "id": "vertical-battery",
   "metadata": {},
   "outputs": [
    {
     "name": "stdout",
     "output_type": "stream",
     "text": [
      "Loading model from web source\n"
     ]
    },
    {
     "data": {
      "text/plain": [
       "{'Model': LogisticRegression(max_iter=1000, multi_class='ovr', n_jobs=-1, solver='sag'),\n",
       " 'Scaler_': StandardScaler(),\n",
       " 'description': {'date': '2022-04-23 11:40:27.484223',\n",
       "  'details': 'stromal and immune populations from the human fetus',\n",
       "  'url': 'https://celltypist.cog.sanger.ac.uk/models/Pan_Fetal_Suo/v2/Pan_Fetal_Human.pkl',\n",
       "  'source': 'https://doi.org/10.1126/science.abo0510',\n",
       "  'version': 'v2',\n",
       "  'number_celltypes': 138}}"
      ]
     },
     "execution_count": 3,
     "metadata": {},
     "output_type": "execute_result"
    }
   ],
   "source": [
    "model_ref = scent.load_models(models, \"pan_fetal_wget\")\n",
    "model_ref"
   ]
  },
  {
   "cell_type": "code",
   "execution_count": 4,
   "id": "serial-christopher",
   "metadata": {},
   "outputs": [
    {
     "name": "stdout",
     "output_type": "stream",
     "text": [
      "Loading model from web source\n"
     ]
    }
   ],
   "source": [
    "model = scent.load_models(models, model_key)\n",
    "adata = scent.load_adatas(\n",
    "    adatas_dict, data_key_use=\"YS_local\", QC_normalise=False, data_merge=False\n",
    ")\n",
    "description = \"Stromal and immune populations of the human YS\"\n",
    "link = \"https://storage.googleapis.com/haniffalab/yolk-sac/YS_X_A2_V12_lvl3_ELASTICNET_YS.sav\"\n",
    "source = \"https://www.science.org/doi/10.1126/science.add7564\"\n",
    "class_count = len(model.classes_)\n",
    "save_key = \"A2_V3_YS_X_model_celltpist_conv.pkl\""
   ]
  },
  {
   "cell_type": "code",
   "execution_count": 12,
   "id": "prompt-infection",
   "metadata": {},
   "outputs": [],
   "source": [
    "adata = scent.load_adatas(\n",
    "    adatas_dict, data_key_use=\"YS_local\", QC_normalise=False, data_merge=False\n",
    ")"
   ]
  },
  {
   "cell_type": "code",
   "execution_count": 18,
   "id": "essential-chair",
   "metadata": {},
   "outputs": [],
   "source": [
    "scaler = StandardScaler(with_mean=False)\n",
    "scaler = scaler.fit(adata.X)"
   ]
  },
  {
   "cell_type": "code",
   "execution_count": 19,
   "id": "selected-destiny",
   "metadata": {},
   "outputs": [
    {
     "data": {
      "text/html": [
       "<style>#sk-container-id-4 {color: black;}#sk-container-id-4 pre{padding: 0;}#sk-container-id-4 div.sk-toggleable {background-color: white;}#sk-container-id-4 label.sk-toggleable__label {cursor: pointer;display: block;width: 100%;margin-bottom: 0;padding: 0.3em;box-sizing: border-box;text-align: center;}#sk-container-id-4 label.sk-toggleable__label-arrow:before {content: \"▸\";float: left;margin-right: 0.25em;color: #696969;}#sk-container-id-4 label.sk-toggleable__label-arrow:hover:before {color: black;}#sk-container-id-4 div.sk-estimator:hover label.sk-toggleable__label-arrow:before {color: black;}#sk-container-id-4 div.sk-toggleable__content {max-height: 0;max-width: 0;overflow: hidden;text-align: left;background-color: #f0f8ff;}#sk-container-id-4 div.sk-toggleable__content pre {margin: 0.2em;color: black;border-radius: 0.25em;background-color: #f0f8ff;}#sk-container-id-4 input.sk-toggleable__control:checked~div.sk-toggleable__content {max-height: 200px;max-width: 100%;overflow: auto;}#sk-container-id-4 input.sk-toggleable__control:checked~label.sk-toggleable__label-arrow:before {content: \"▾\";}#sk-container-id-4 div.sk-estimator input.sk-toggleable__control:checked~label.sk-toggleable__label {background-color: #d4ebff;}#sk-container-id-4 div.sk-label input.sk-toggleable__control:checked~label.sk-toggleable__label {background-color: #d4ebff;}#sk-container-id-4 input.sk-hidden--visually {border: 0;clip: rect(1px 1px 1px 1px);clip: rect(1px, 1px, 1px, 1px);height: 1px;margin: -1px;overflow: hidden;padding: 0;position: absolute;width: 1px;}#sk-container-id-4 div.sk-estimator {font-family: monospace;background-color: #f0f8ff;border: 1px dotted black;border-radius: 0.25em;box-sizing: border-box;margin-bottom: 0.5em;}#sk-container-id-4 div.sk-estimator:hover {background-color: #d4ebff;}#sk-container-id-4 div.sk-parallel-item::after {content: \"\";width: 100%;border-bottom: 1px solid gray;flex-grow: 1;}#sk-container-id-4 div.sk-label:hover label.sk-toggleable__label {background-color: #d4ebff;}#sk-container-id-4 div.sk-serial::before {content: \"\";position: absolute;border-left: 1px solid gray;box-sizing: border-box;top: 0;bottom: 0;left: 50%;z-index: 0;}#sk-container-id-4 div.sk-serial {display: flex;flex-direction: column;align-items: center;background-color: white;padding-right: 0.2em;padding-left: 0.2em;position: relative;}#sk-container-id-4 div.sk-item {position: relative;z-index: 1;}#sk-container-id-4 div.sk-parallel {display: flex;align-items: stretch;justify-content: center;background-color: white;position: relative;}#sk-container-id-4 div.sk-item::before, #sk-container-id-4 div.sk-parallel-item::before {content: \"\";position: absolute;border-left: 1px solid gray;box-sizing: border-box;top: 0;bottom: 0;left: 50%;z-index: -1;}#sk-container-id-4 div.sk-parallel-item {display: flex;flex-direction: column;z-index: 1;position: relative;background-color: white;}#sk-container-id-4 div.sk-parallel-item:first-child::after {align-self: flex-end;width: 50%;}#sk-container-id-4 div.sk-parallel-item:last-child::after {align-self: flex-start;width: 50%;}#sk-container-id-4 div.sk-parallel-item:only-child::after {width: 0;}#sk-container-id-4 div.sk-dashed-wrapped {border: 1px dashed gray;margin: 0 0.4em 0.5em 0.4em;box-sizing: border-box;padding-bottom: 0.4em;background-color: white;}#sk-container-id-4 div.sk-label label {font-family: monospace;font-weight: bold;display: inline-block;line-height: 1.2em;}#sk-container-id-4 div.sk-label-container {text-align: center;}#sk-container-id-4 div.sk-container {/* jupyter's `normalize.less` sets `[hidden] { display: none; }` but bootstrap.min.css set `[hidden] { display: none !important; }` so we also need the `!important` here to be able to override the default hidden behavior on the sphinx rendered scikit-learn.org. See: https://github.com/scikit-learn/scikit-learn/issues/21755 */display: inline-block !important;position: relative;}#sk-container-id-4 div.sk-text-repr-fallback {display: none;}</style><div id=\"sk-container-id-4\" class=\"sk-top-container\"><div class=\"sk-text-repr-fallback\"><pre>StandardScaler(with_mean=False)</pre><b>In a Jupyter environment, please rerun this cell to show the HTML representation or trust the notebook. <br />On GitHub, the HTML representation is unable to render, please try loading this page with nbviewer.org.</b></div><div class=\"sk-container\" hidden><div class=\"sk-item\"><div class=\"sk-estimator sk-toggleable\"><input class=\"sk-toggleable__control sk-hidden--visually\" id=\"sk-estimator-id-4\" type=\"checkbox\" checked><label for=\"sk-estimator-id-4\" class=\"sk-toggleable__label sk-toggleable__label-arrow\">StandardScaler</label><div class=\"sk-toggleable__content\"><pre>StandardScaler(with_mean=False)</pre></div></div></div></div></div>"
      ],
      "text/plain": [
       "StandardScaler(with_mean=False)"
      ]
     },
     "execution_count": 19,
     "metadata": {},
     "output_type": "execute_result"
    }
   ],
   "source": [
    "scaler"
   ]
  },
  {
   "cell_type": "code",
   "execution_count": 21,
   "id": "verbal-wonder",
   "metadata": {},
   "outputs": [],
   "source": [
    "current_datetime = datetime.now()\n",
    "model_dict = {\n",
    "    \"Model\": model,\n",
    "    \"Scaler_\": scaler,\n",
    "    \"description\": {\n",
    "        \"date\": current_datetime.strftime(\"%Y-%m-%d %H:%M:%S.%f\"),\n",
    "        \"details\": description,\n",
    "        \"url\": link,\n",
    "        \"source\": source,\n",
    "        \"version\": \"v2\",\n",
    "        \"number_celltypes\": class_count,\n",
    "    },\n",
    "}\n",
    "with open(save_key, \"wb\") as file:\n",
    "    pkl.dump(model_dict, file)"
   ]
  },
  {
   "cell_type": "code",
   "execution_count": 22,
   "id": "processed-documentation",
   "metadata": {},
   "outputs": [
    {
     "data": {
      "text/plain": [
       "{'Model': LogisticRegression(C=0.01, l1_ratio=0.5, max_iter=200,\n",
       "                    multi_class='multinomial', penalty='elasticnet',\n",
       "                    solver='saga'),\n",
       " 'Scaler_': StandardScaler(with_mean=False),\n",
       " 'description': {'date': '2023-10-23 15:24:39.818640',\n",
       "  'details': 'Stromal and immune populations of the human YS',\n",
       "  'url': 'https://storage.googleapis.com/haniffalab/yolk-sac/YS_X_A2_V12_lvl3_ELASTICNET_YS.sav',\n",
       "  'source': 'https://www.science.org/doi/10.1126/science.add7564',\n",
       "  'version': 'v2',\n",
       "  'number_celltypes': 47}}"
      ]
     },
     "execution_count": 22,
     "metadata": {},
     "output_type": "execute_result"
    }
   ],
   "source": [
    "model_dict"
   ]
  },
  {
   "cell_type": "code",
   "execution_count": null,
   "id": "biological-stocks",
   "metadata": {},
   "outputs": [],
   "source": []
  }
 ],
 "metadata": {
  "kernelspec": {
   "display_name": "scentinel",
   "language": "python",
   "name": "scentinel"
  },
  "language_info": {
   "codemirror_mode": {
    "name": "ipython",
    "version": 3
   },
   "file_extension": ".py",
   "mimetype": "text/x-python",
   "name": "python",
   "nbconvert_exporter": "python",
   "pygments_lexer": "ipython3",
   "version": "3.9.18"
  }
 },
 "nbformat": 4,
 "nbformat_minor": 5
}
