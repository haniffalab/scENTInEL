{
 "cells": [
  {
   "cell_type": "markdown",
   "id": "threatened-arizona",
   "metadata": {},
   "source": [
    "# Working solution"
   ]
  },
  {
   "cell_type": "code",
   "execution_count": 77,
   "id": "returning-patent",
   "metadata": {},
   "outputs": [
    {
     "data": {
      "text/plain": [
       "8443"
      ]
     },
     "execution_count": 77,
     "metadata": {},
     "output_type": "execute_result"
    }
   ],
   "source": [
    "KNN_main = adata.obsp[adata.uns[model_params[\"knn_key\"]][\"connectivities_key\"]].copy()\n",
    "knn = KNN_main\n",
    "KNN_tmp = knn[adata.obs.index.isin(adata_samp.obs.index)]\n",
    "KNN_tmp.data = np.where(KNN_tmp.data > 0, 1, 0)\n",
    "\n",
    "indices = np.where(KNN_tmp.sum(axis=0) <= model_params[\"alpha\"])[1]\n",
    "len(indices)"
   ]
  },
  {
   "cell_type": "code",
   "execution_count": 78,
   "id": "postal-connecticut",
   "metadata": {},
   "outputs": [],
   "source": [
    "from scipy.sparse import coo_matrix, csr_matrix\n",
    "import numpy as np\n",
    "\n",
    "\n",
    "def compile_and_apply_updates(KNN_main, updates_dict):\n",
    "    \"\"\"\n",
    "    Compile updates from updates_dict and apply them to the KNN_main CSR matrix.\n",
    "    \"\"\"\n",
    "    row_updates = []\n",
    "    col_updates = []\n",
    "    data_updates = []\n",
    "\n",
    "    # Compile the latest updates for each unique index\n",
    "    compiled_updates = {}\n",
    "    for epoch, (indices, KNN_hop) in sorted(updates_dict.items(), reverse=True):\n",
    "        for idx, original_idx in enumerate(indices):\n",
    "            if original_idx not in compiled_updates:\n",
    "                compiled_updates[original_idx] = KNN_hop[idx, :].tocoo()\n",
    "\n",
    "    # Accumulate updates\n",
    "    for original_idx, update_coo in compiled_updates.items():\n",
    "        row_updates.extend([original_idx] * len(update_coo.data))\n",
    "        col_updates.extend(update_coo.col)\n",
    "        data_updates.extend(update_coo.data)\n",
    "\n",
    "    # Create a COO matrix from the compiled updates\n",
    "    updates_coo = coo_matrix(\n",
    "        (data_updates, (row_updates, col_updates)), shape=KNN_main.shape\n",
    "    )\n",
    "\n",
    "    # Convert COO to CSR and apply updates\n",
    "    KNN_main += updates_coo.tocsr()\n",
    "\n",
    "    return KNN_main"
   ]
  },
  {
   "cell_type": "code",
   "execution_count": 3,
   "id": "generic-usage",
   "metadata": {},
   "outputs": [],
   "source": [
    "from scipy.sparse import coo_matrix, csr_matrix\n",
    "import numpy as np\n",
    "from multiprocessing import Pool, Manager\n",
    "from functools import partial\n",
    "\n",
    "\n",
    "def process_update_chunk(\n",
    "    shared_row_updates, shared_col_updates, shared_data_updates, compiled_updates, chunk\n",
    "):\n",
    "    \"\"\"\n",
    "    Process a chunk of updates in parallel and accumulate them in shared memory lists.\n",
    "    \"\"\"\n",
    "    for original_idx in chunk:\n",
    "        update_coo = compiled_updates[original_idx]\n",
    "        shared_row_updates.extend([original_idx] * len(update_coo.data))\n",
    "        shared_col_updates.extend(update_coo.col.tolist())\n",
    "        shared_data_updates.extend(update_coo.data.tolist())\n",
    "\n",
    "\n",
    "def compile_and_apply_updates_parallel(KNN_main, updates_dict, n_jobs=4):\n",
    "    \"\"\"\n",
    "    Compile updates from updates_dict and apply them to the KNN_main CSR matrix in parallel using shared memory.\n",
    "    \"\"\"\n",
    "    # Compile the latest updates for each unique index\n",
    "    compiled_updates = {}\n",
    "    for epoch, (indices, KNN_hop) in sorted(updates_dict.items(), reverse=True):\n",
    "        for idx, original_idx in enumerate(indices):\n",
    "            if original_idx not in compiled_updates:\n",
    "                compiled_updates[original_idx] = KNN_hop[idx, :].tocoo()\n",
    "\n",
    "    # Initialize shared memory lists\n",
    "    manager = Manager()\n",
    "    shared_row_updates = manager.list()\n",
    "    shared_col_updates = manager.list()\n",
    "    shared_data_updates = manager.list()\n",
    "\n",
    "    # Prepare chunks of updates for parallel processing\n",
    "    chunks = np.array_split(list(compiled_updates.keys()), n_jobs)\n",
    "\n",
    "    # Process updates in parallel\n",
    "    pool = Pool(processes=n_jobs)\n",
    "    func = partial(\n",
    "        process_update_chunk,\n",
    "        shared_row_updates,\n",
    "        shared_col_updates,\n",
    "        shared_data_updates,\n",
    "        compiled_updates,\n",
    "    )\n",
    "    pool.map(func, chunks)\n",
    "    pool.close()\n",
    "    pool.join()\n",
    "\n",
    "    # Create a COO matrix from the compiled updates in shared memory\n",
    "    updates_coo = coo_matrix(\n",
    "        (\n",
    "            list(shared_data_updates),\n",
    "            (list(shared_row_updates), list(shared_col_updates)),\n",
    "        ),\n",
    "        shape=KNN_main.shape,\n",
    "    )\n",
    "\n",
    "    # Convert COO to CSR and apply updates\n",
    "    KNN_main += updates_coo.tocsr()\n",
    "\n",
    "    return KNN_main"
   ]
  },
  {
   "cell_type": "code",
   "execution_count": 4,
   "id": "neutral-flood",
   "metadata": {},
   "outputs": [
    {
     "ename": "NameError",
     "evalue": "name 'KNN_main' is not defined",
     "output_type": "error",
     "traceback": [
      "\u001b[0;31m---------------------------------------------------------------------------\u001b[0m",
      "\u001b[0;31mNameError\u001b[0m                                 Traceback (most recent call last)",
      "Input \u001b[0;32mIn [4]\u001b[0m, in \u001b[0;36m<cell line: 1>\u001b[0;34m()\u001b[0m\n\u001b[0;32m----> 1\u001b[0m knn \u001b[38;5;241m=\u001b[39m compile_and_apply_updates_parallel(\u001b[43mKNN_main\u001b[49m, updates_dict)\n",
      "\u001b[0;31mNameError\u001b[0m: name 'KNN_main' is not defined"
     ]
    }
   ],
   "source": [
    "knn = compile_and_apply_updates_parallel(KNN_main, updates_dict)"
   ]
  },
  {
   "cell_type": "code",
   "execution_count": 80,
   "id": "historical-shipping",
   "metadata": {},
   "outputs": [
    {
     "data": {
      "text/plain": [
       "2144"
      ]
     },
     "execution_count": 80,
     "metadata": {},
     "output_type": "execute_result"
    }
   ],
   "source": [
    "KNN_tmp = knn[adata.obs.index.isin(adata_samp.obs.index)]\n",
    "KNN_tmp.data = np.where(KNN_tmp.data > 0, 1, 0)\n",
    "\n",
    "indices = np.where(KNN_tmp.sum(axis=0) <= model_params[\"alpha\"])[1]\n",
    "len(indices)"
   ]
  }
 ],
 "metadata": {
  "kernelspec": {
   "display_name": "scentinel",
   "language": "python",
   "name": "scentinel"
  },
  "language_info": {
   "codemirror_mode": {
    "name": "ipython",
    "version": 3
   },
   "file_extension": ".py",
   "mimetype": "text/x-python",
   "name": "python",
   "nbconvert_exporter": "python",
   "pygments_lexer": "ipython3",
   "version": "3.9.18"
  }
 },
 "nbformat": 4,
 "nbformat_minor": 5
}
